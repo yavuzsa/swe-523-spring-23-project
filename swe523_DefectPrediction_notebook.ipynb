{
 "cells": [
  {
   "cell_type": "markdown",
   "id": "ca1b20a5",
   "metadata": {},
   "source": [
    "# Defect Prediction"
   ]
  },
  {
   "cell_type": "code",
   "execution_count": null,
   "id": "5bf48f0b",
   "metadata": {},
   "outputs": [],
   "source": [
    "#### Importing Libraries;"
   ]
  },
  {
   "cell_type": "code",
   "execution_count": 1,
   "id": "f282cdf6",
   "metadata": {},
   "outputs": [],
   "source": [
    "import pandas as pd\n",
    "import numpy as np\n",
    "import seaborn as sns\n",
    "from matplotlib import pyplot\n",
    "%matplotlib inline\n",
    "import matplotlib.pyplot as plt\n",
    "from sklearn.model_selection import train_test_split\n",
    "from sklearn.metrics import confusion_matrix\n",
    "from sklearn.metrics import accuracy_score\n",
    "from sklearn.metrics import roc_auc_score\n",
    "from sklearn.metrics import confusion_matrix, ConfusionMatrixDisplay\n",
    "from sklearn.metrics import precision_score\n",
    "from sklearn.metrics import recall_score\n",
    "from sklearn.metrics import f1_score\n",
    "from sklearn.ensemble import RandomForestClassifier,GradientBoostingClassifier,AdaBoostClassifier\n",
    "from sklearn.neighbors import KNeighborsClassifier\n",
    "from sklearn.tree import DecisionTreeClassifier\n",
    "from sklearn.ensemble import BaggingClassifier\n",
    "from xgboost import XGBClassifier\n",
    "#import lightgbm as lgb\n",
    "from sklearn.metrics import classification_report\n",
    "import sklearn\n",
    "from sklearn import svm"
   ]
  },
  {
   "cell_type": "markdown",
   "id": "74ec0fcf",
   "metadata": {},
   "source": [
    "#### System Paths & Data Import"
   ]
  },
  {
   "cell_type": "code",
   "execution_count": 2,
   "id": "09e824ff",
   "metadata": {},
   "outputs": [],
   "source": [
    "df_link = (r'C:\\Users\\gokal\\OneDrive\\Masaüstü\\swe523_datasets.txt')\n",
    "df = pd.read_csv(df_link, delimiter=\",\",header=None)"
   ]
  },
  {
   "cell_type": "code",
   "execution_count": 3,
   "id": "15f8ba6e",
   "metadata": {},
   "outputs": [],
   "source": [
    "features = [\"loc\",\"v_g\",\"ev_g\",\"iv_g\",\"n\",\"v\",\"l\",\"d\",\"i\",\"e\",\"b\",\"t\",\"lOCode\",\"lOComment\",\"lOBlank\",\"lOCodeAndComment\",\"uniq_Op\",\"uniq_Opnd\",\"total_Op\",\"total_Opnd\",\"branchCount\",\"defects\"]"
   ]
  },
  {
   "cell_type": "code",
   "execution_count": 4,
   "id": "0cf257ae",
   "metadata": {},
   "outputs": [],
   "source": [
    "df.columns=features"
   ]
  },
  {
   "cell_type": "markdown",
   "id": "11d29d2d",
   "metadata": {},
   "source": [
    "#### Creating Helper Functions "
   ]
  },
  {
   "cell_type": "code",
   "execution_count": 5,
   "id": "b2d4d986",
   "metadata": {},
   "outputs": [],
   "source": [
    "def infoDF(df):\n",
    "    print(df.head())\n",
    "    print(df.info())\n",
    "    print(df.describe())\n",
    "    \n",
    "def typeDF(df):\n",
    "    print(df.shape)\n",
    "    print(df.dtypes)    \n",
    "\n",
    "def isNULL(df):\n",
    "    print(df.isna().any().sum())\n",
    "    print(df.isna().any(axis=1).sum())\n",
    "    \n",
    "def tableMissing(df):\n",
    "    print('TotaL # of NA values in every column')\n",
    "    #print(df.isnull().sum())   \n",
    "    for col in df:\n",
    "        count_nan = len(df[col]) - df[col].count()\n",
    "        print(str(col) + ': ' + str(count_nan))        \n",
    "           "
   ]
  },
  {
   "cell_type": "markdown",
   "id": "620e35b4",
   "metadata": {},
   "source": [
    "#### Initial Data Information & Examination"
   ]
  },
  {
   "cell_type": "code",
   "execution_count": 6,
   "id": "5c88cc56",
   "metadata": {},
   "outputs": [
    {
     "name": "stdout",
     "output_type": "stream",
     "text": [
      "     loc  v_g  ev_g  iv_g      n        v     l      d       i         e  ...  \\\n",
      "0    1.1  1.4   1.4   1.4    1.3     1.30  1.30   1.30    1.30      1.30  ...   \n",
      "1    1.0  1.0   1.0   1.0    1.0     1.00  1.00   1.00    1.00      1.00  ...   \n",
      "2   72.0  7.0   1.0   6.0  198.0  1134.13  0.05  20.31   55.85  23029.10  ...   \n",
      "3  190.0  3.0   1.0   3.0  600.0  4348.76  0.06  17.06  254.87  74202.67  ...   \n",
      "4   37.0  4.0   1.0   4.0  126.0   599.12  0.06  17.19   34.86  10297.30  ...   \n",
      "\n",
      "   lOCode  lOComment  lOBlank  lOCodeAndComment  uniq_Op  uniq_Opnd total_Op  \\\n",
      "0       2          2        2                 2      1.2        1.2      1.2   \n",
      "1       1          1        1                 1        1          1        1   \n",
      "2      51         10        8                 1       17         36      112   \n",
      "3     129         29       28                 2       17        135      329   \n",
      "4      28          1        6                 0       11         16       76   \n",
      "\n",
      "  total_Opnd branchCount defects  \n",
      "0        1.2         1.4   False  \n",
      "1          1           1    True  \n",
      "2         86          13    True  \n",
      "3        271           5    True  \n",
      "4         50           7    True  \n",
      "\n",
      "[5 rows x 22 columns]\n",
      "<class 'pandas.core.frame.DataFrame'>\n",
      "RangeIndex: 10885 entries, 0 to 10884\n",
      "Data columns (total 22 columns):\n",
      " #   Column            Non-Null Count  Dtype  \n",
      "---  ------            --------------  -----  \n",
      " 0   loc               10885 non-null  float64\n",
      " 1   v_g               10885 non-null  float64\n",
      " 2   ev_g              10885 non-null  float64\n",
      " 3   iv_g              10885 non-null  float64\n",
      " 4   n                 10885 non-null  float64\n",
      " 5   v                 10885 non-null  float64\n",
      " 6   l                 10885 non-null  float64\n",
      " 7   d                 10885 non-null  float64\n",
      " 8   i                 10885 non-null  float64\n",
      " 9   e                 10885 non-null  float64\n",
      " 10  b                 10885 non-null  float64\n",
      " 11  t                 10885 non-null  float64\n",
      " 12  lOCode            10885 non-null  int64  \n",
      " 13  lOComment         10885 non-null  int64  \n",
      " 14  lOBlank           10885 non-null  int64  \n",
      " 15  lOCodeAndComment  10885 non-null  int64  \n",
      " 16  uniq_Op           10885 non-null  object \n",
      " 17  uniq_Opnd         10885 non-null  object \n",
      " 18  total_Op          10885 non-null  object \n",
      " 19  total_Opnd        10885 non-null  object \n",
      " 20  branchCount       10885 non-null  object \n",
      " 21  defects           10885 non-null  bool   \n",
      "dtypes: bool(1), float64(12), int64(4), object(5)\n",
      "memory usage: 1.8+ MB\n",
      "None\n",
      "                loc           v_g          ev_g          iv_g             n  \\\n",
      "count  10885.000000  10885.000000  10885.000000  10885.000000  10885.000000   \n",
      "mean      42.016178      6.348590      3.401047      4.001599    114.389738   \n",
      "std       76.593332     13.019695      6.771869      9.116889    249.502091   \n",
      "min        1.000000      1.000000      1.000000      1.000000      0.000000   \n",
      "25%       11.000000      2.000000      1.000000      1.000000     14.000000   \n",
      "50%       23.000000      3.000000      1.000000      2.000000     49.000000   \n",
      "75%       46.000000      7.000000      3.000000      4.000000    119.000000   \n",
      "max     3442.000000    470.000000    165.000000    402.000000   8441.000000   \n",
      "\n",
      "                  v             l             d             i             e  \\\n",
      "count  10885.000000  10885.000000  10885.000000  10885.000000  1.088500e+04   \n",
      "mean     673.758017      0.135335     14.177237     29.439544  3.683637e+04   \n",
      "std     1938.856196      0.160538     18.709900     34.418313  4.343678e+05   \n",
      "min        0.000000      0.000000      0.000000      0.000000  0.000000e+00   \n",
      "25%       48.430000      0.030000      3.000000     11.860000  1.619400e+02   \n",
      "50%      217.130000      0.080000      9.090000     21.930000  2.031020e+03   \n",
      "75%      621.480000      0.160000     18.900000     36.780000  1.141643e+04   \n",
      "max    80843.080000      1.300000    418.200000    569.780000  3.107978e+07   \n",
      "\n",
      "                  b             t        lOCode     lOComment      lOBlank  \\\n",
      "count  10885.000000  1.088500e+04  10885.000000  10885.000000  10885.00000   \n",
      "mean       0.224766  2.046465e+03     26.252274      2.737529      4.62554   \n",
      "std        0.646408  2.413154e+04     59.611201      9.008608      9.96813   \n",
      "min        0.000000  0.000000e+00      0.000000      0.000000      0.00000   \n",
      "25%        0.020000  9.000000e+00      4.000000      0.000000      0.00000   \n",
      "50%        0.070000  1.128300e+02     13.000000      0.000000      2.00000   \n",
      "75%        0.210000  6.342500e+02     28.000000      2.000000      5.00000   \n",
      "max       26.950000  1.726655e+06   2824.000000    344.000000    447.00000   \n",
      "\n",
      "       lOCodeAndComment  \n",
      "count      10885.000000  \n",
      "mean           0.370785  \n",
      "std            1.907969  \n",
      "min            0.000000  \n",
      "25%            0.000000  \n",
      "50%            0.000000  \n",
      "75%            0.000000  \n",
      "max          108.000000  \n"
     ]
    }
   ],
   "source": [
    "infoDF(df)"
   ]
  },
  {
   "cell_type": "code",
   "execution_count": 7,
   "id": "c6512fd2",
   "metadata": {},
   "outputs": [
    {
     "name": "stdout",
     "output_type": "stream",
     "text": [
      "0\n",
      "0\n"
     ]
    }
   ],
   "source": [
    "isNULL(df)    "
   ]
  },
  {
   "cell_type": "code",
   "execution_count": 8,
   "id": "6ecd2610",
   "metadata": {},
   "outputs": [
    {
     "name": "stdout",
     "output_type": "stream",
     "text": [
      "TotaL # of NA values in every column\n",
      "loc: 0\n",
      "v_g: 0\n",
      "ev_g: 0\n",
      "iv_g: 0\n",
      "n: 0\n",
      "v: 0\n",
      "l: 0\n",
      "d: 0\n",
      "i: 0\n",
      "e: 0\n",
      "b: 0\n",
      "t: 0\n",
      "lOCode: 0\n",
      "lOComment: 0\n",
      "lOBlank: 0\n",
      "lOCodeAndComment: 0\n",
      "uniq_Op: 0\n",
      "uniq_Opnd: 0\n",
      "total_Op: 0\n",
      "total_Opnd: 0\n",
      "branchCount: 0\n",
      "defects: 0\n"
     ]
    }
   ],
   "source": [
    "tableMissing(df)"
   ]
  },
  {
   "cell_type": "code",
   "execution_count": 9,
   "id": "f2fb826e",
   "metadata": {},
   "outputs": [
    {
     "name": "stdout",
     "output_type": "stream",
     "text": [
      "defect ratio: 0.1934772622875517\n"
     ]
    }
   ],
   "source": [
    "print(\"defect ratio:\",df.defects.sum()/df.shape[0])"
   ]
  },
  {
   "cell_type": "markdown",
   "id": "3a559c26",
   "metadata": {},
   "source": [
    "## Preprocessing\n",
    "Currently selected variables need no preprocessing."
   ]
  },
  {
   "cell_type": "markdown",
   "id": "5853de81",
   "metadata": {},
   "source": [
    "#### Train & Test Split"
   ]
  },
  {
   "cell_type": "code",
   "execution_count": 10,
   "id": "e1c7ada8",
   "metadata": {},
   "outputs": [],
   "source": [
    "predictors = features[:-1]"
   ]
  },
  {
   "cell_type": "code",
   "execution_count": 11,
   "id": "e829d943",
   "metadata": {},
   "outputs": [],
   "source": [
    "# Drop unused predictors\n",
    "# predictors = predictors[:-5]\n",
    "# Selected predictors:\n",
    "predictors = [\"loc\",\"v_g\",\"lOCode\",\"lOComment\",\"lOBlank\",\"lOCodeAndComment\"]"
   ]
  },
  {
   "cell_type": "code",
   "execution_count": 12,
   "id": "1a9e1031",
   "metadata": {
    "scrolled": true
   },
   "outputs": [],
   "source": [
    "response = features[-1]"
   ]
  },
  {
   "cell_type": "code",
   "execution_count": 13,
   "id": "d6ba68dd",
   "metadata": {},
   "outputs": [],
   "source": [
    "X = df[predictors]"
   ]
  },
  {
   "cell_type": "code",
   "execution_count": 14,
   "id": "a6036247",
   "metadata": {},
   "outputs": [],
   "source": [
    "y = df[response]"
   ]
  },
  {
   "cell_type": "code",
   "execution_count": 15,
   "id": "76cda089",
   "metadata": {},
   "outputs": [],
   "source": [
    "X_train, X_test, y_train, y_test = train_test_split(X,y,test_size=0.20,random_state=42)"
   ]
  },
  {
   "cell_type": "markdown",
   "id": "a9f02f0b",
   "metadata": {},
   "source": [
    "### Testing Model Performances"
   ]
  },
  {
   "cell_type": "markdown",
   "id": "e9d1a4b5",
   "metadata": {},
   "source": [
    "#### DecisionTreeClassifier"
   ]
  },
  {
   "cell_type": "code",
   "execution_count": 79,
   "id": "d84744f8",
   "metadata": {
    "scrolled": false
   },
   "outputs": [
    {
     "data": {
      "text/html": [
       "<div>\n",
       "<style scoped>\n",
       "    .dataframe tbody tr th:only-of-type {\n",
       "        vertical-align: middle;\n",
       "    }\n",
       "\n",
       "    .dataframe tbody tr th {\n",
       "        vertical-align: top;\n",
       "    }\n",
       "\n",
       "    .dataframe thead th {\n",
       "        text-align: right;\n",
       "    }\n",
       "</style>\n",
       "<table border=\"1\" class=\"dataframe\">\n",
       "  <thead>\n",
       "    <tr style=\"text-align: right;\">\n",
       "      <th></th>\n",
       "      <th>loc</th>\n",
       "      <th>v_g</th>\n",
       "      <th>lOCode</th>\n",
       "      <th>lOComment</th>\n",
       "      <th>lOBlank</th>\n",
       "      <th>lOCodeAndComment</th>\n",
       "    </tr>\n",
       "  </thead>\n",
       "  <tbody>\n",
       "    <tr>\n",
       "      <th>10377</th>\n",
       "      <td>11.0</td>\n",
       "      <td>3.0</td>\n",
       "      <td>6</td>\n",
       "      <td>0</td>\n",
       "      <td>2</td>\n",
       "      <td>0</td>\n",
       "    </tr>\n",
       "    <tr>\n",
       "      <th>2815</th>\n",
       "      <td>128.0</td>\n",
       "      <td>2.0</td>\n",
       "      <td>102</td>\n",
       "      <td>3</td>\n",
       "      <td>21</td>\n",
       "      <td>0</td>\n",
       "    </tr>\n",
       "    <tr>\n",
       "      <th>8694</th>\n",
       "      <td>13.0</td>\n",
       "      <td>3.0</td>\n",
       "      <td>8</td>\n",
       "      <td>1</td>\n",
       "      <td>1</td>\n",
       "      <td>0</td>\n",
       "    </tr>\n",
       "    <tr>\n",
       "      <th>9025</th>\n",
       "      <td>4.0</td>\n",
       "      <td>1.0</td>\n",
       "      <td>0</td>\n",
       "      <td>0</td>\n",
       "      <td>0</td>\n",
       "      <td>0</td>\n",
       "    </tr>\n",
       "    <tr>\n",
       "      <th>1543</th>\n",
       "      <td>102.0</td>\n",
       "      <td>34.0</td>\n",
       "      <td>74</td>\n",
       "      <td>19</td>\n",
       "      <td>5</td>\n",
       "      <td>2</td>\n",
       "    </tr>\n",
       "  </tbody>\n",
       "</table>\n",
       "</div>"
      ],
      "text/plain": [
       "         loc   v_g  lOCode  lOComment  lOBlank  lOCodeAndComment\n",
       "10377   11.0   3.0       6          0        2                 0\n",
       "2815   128.0   2.0     102          3       21                 0\n",
       "8694    13.0   3.0       8          1        1                 0\n",
       "9025     4.0   1.0       0          0        0                 0\n",
       "1543   102.0  34.0      74         19        5                 2"
      ]
     },
     "execution_count": 79,
     "metadata": {},
     "output_type": "execute_result"
    }
   ],
   "source": [
    "X_train.head()"
   ]
  },
  {
   "cell_type": "code",
   "execution_count": 27,
   "id": "52a2fa9c",
   "metadata": {},
   "outputs": [
    {
     "name": "stdout",
     "output_type": "stream",
     "text": [
      "DecisionTree\n",
      "[[1558  200]\n",
      " [ 281  138]]\n"
     ]
    },
    {
     "data": {
      "image/png": "[encoded data removed]",
      "text/plain": [
       "<Figure size 640x480 with 2 Axes>"
      ]
     },
     "metadata": {},
     "output_type": "display_data"
    },
    {
     "name": "stdout",
     "output_type": "stream",
     "text": [
      "Accuracy: 0.7790537436839687\n",
      "F1 0.3645970937912813\n",
      "              precision    recall  f1-score   support\n",
      "\n",
      "       False       0.85      0.89      0.87      1758\n",
      "        True       0.41      0.33      0.36       419\n",
      "\n",
      "    accuracy                           0.78      2177\n",
      "   macro avg       0.63      0.61      0.62      2177\n",
      "weighted avg       0.76      0.78      0.77      2177\n",
      "\n",
      "False    1758\n",
      "True      419\n",
      "Name: defects, dtype: int64\n",
      "False    1839\n",
      "True      338\n",
      "dtype: int64\n"
     ]
    }
   ],
   "source": [
    "DT = DecisionTreeClassifier()\n",
    "DT = DT.fit(X_train, y_train)\n",
    "DT_model = DT.predict(X_test)\n",
    "Y_DT = pd.DataFrame(DT_model, index = X_test.index)\n",
    "\n",
    "print(\"DecisionTree\")\n",
    "print(confusion_matrix(y_test, Y_DT))\n",
    "#fig, ax = plt.subplots(figsize=(8, 5))\n",
    "cmp = ConfusionMatrixDisplay(confusion_matrix(y_test, Y_DT))\n",
    "cmp.plot()\n",
    "#cmp.plot(ax=ax)\n",
    "plt.show();\n",
    "print(\"Accuracy:\",accuracy_score(y_test, Y_DT))\n",
    "print(\"F1\",f1_score(y_test,Y_DT,pos_label=True))\n",
    "print(classification_report(y_test, Y_DT))\n",
    "print(y_test.value_counts())\n",
    "print(Y_DT.value_counts())"
   ]
  },
  {
   "cell_type": "markdown",
   "id": "bbe6035b",
   "metadata": {},
   "source": [
    "#### KNeighborsClassifier"
   ]
  },
  {
   "cell_type": "code",
   "execution_count": 17,
   "id": "c091d6d8",
   "metadata": {},
   "outputs": [
    {
     "name": "stdout",
     "output_type": "stream",
     "text": [
      "Kneighbors\n",
      "[[1689   69]\n",
      " [ 368   51]]\n"
     ]
    },
    {
     "name": "stderr",
     "output_type": "stream",
     "text": [
      "C:\\ProgramData\\Anaconda3\\lib\\site-packages\\sklearn\\neighbors\\_classification.py:228: FutureWarning: Unlike other reduction functions (e.g. `skew`, `kurtosis`), the default behavior of `mode` typically preserves the axis it acts along. In SciPy 1.11.0, this behavior will change: the default value of `keepdims` will become False, the `axis` over which the statistic is taken will be eliminated, and the value None will no longer be accepted. Set `keepdims` to True or False to avoid this warning.\n",
      "  mode, _ = stats.mode(_y[neigh_ind, k], axis=1)\n"
     ]
    },
    {
     "data": {
      "image/png": "[encoded data removed]",
      "text/plain": [
       "<Figure size 640x480 with 2 Axes>"
      ]
     },
     "metadata": {},
     "output_type": "display_data"
    },
    {
     "name": "stdout",
     "output_type": "stream",
     "text": [
      "Accuracy: 0.799265043638034\n",
      "F1 0.18923933209647495\n",
      "              precision    recall  f1-score   support\n",
      "\n",
      "       False       0.82      0.96      0.89      1758\n",
      "        True       0.42      0.12      0.19       419\n",
      "\n",
      "    accuracy                           0.80      2177\n",
      "   macro avg       0.62      0.54      0.54      2177\n",
      "weighted avg       0.74      0.80      0.75      2177\n",
      "\n",
      "False    1758\n",
      "True      419\n",
      "Name: defects, dtype: int64\n",
      "False    2057\n",
      "True      120\n",
      "dtype: int64\n"
     ]
    }
   ],
   "source": [
    "knn = KNeighborsClassifier(n_neighbors=10)\n",
    "knn = knn.fit(X_train,y_train)\n",
    "\n",
    "knn_model = knn.predict(X_test)\n",
    "Y_knn = pd.DataFrame(knn_model, index = X_test.index)\n",
    "\n",
    "print(\"Kneighbors\")\n",
    "print(confusion_matrix(y_test, Y_knn))\n",
    "#fig, ax = plt.subplots(figsize=(8, 5))\n",
    "cmp = ConfusionMatrixDisplay(confusion_matrix(y_test, Y_knn))\n",
    "cmp.plot()\n",
    "plt.show()\n",
    "print(\"Accuracy:\",accuracy_score(y_test, Y_knn))\n",
    "print(\"F1\",f1_score(y_test,Y_knn,pos_label=True))\n",
    "print(classification_report(y_test, Y_knn))\n",
    "print(y_test.value_counts())\n",
    "print(Y_knn.value_counts())"
   ]
  },
  {
   "cell_type": "markdown",
   "id": "c8d7c553",
   "metadata": {},
   "source": [
    "#### RandomForestClassifier"
   ]
  },
  {
   "cell_type": "code",
   "execution_count": 16,
   "id": "fe522823",
   "metadata": {},
   "outputs": [
    {
     "name": "stdout",
     "output_type": "stream",
     "text": [
      "Random Forest\n",
      "[[1631  127]\n",
      " [ 323   96]]\n"
     ]
    },
    {
     "data": {
      "image/png": "[encoded data removed]",
      "text/plain": [
       "<Figure size 640x480 with 2 Axes>"
      ]
     },
     "metadata": {},
     "output_type": "display_data"
    },
    {
     "name": "stdout",
     "output_type": "stream",
     "text": [
      "Accuracy score:  0.7932935231970601\n",
      "F1 0.2990654205607477\n",
      "              precision    recall  f1-score   support\n",
      "\n",
      "       False       0.83      0.93      0.88      1758\n",
      "        True       0.43      0.23      0.30       419\n",
      "\n",
      "    accuracy                           0.79      2177\n",
      "   macro avg       0.63      0.58      0.59      2177\n",
      "weighted avg       0.76      0.79      0.77      2177\n",
      "\n",
      "False    1758\n",
      "True      419\n",
      "Name: defects, dtype: int64\n",
      "False    1954\n",
      "True      223\n",
      "dtype: int64\n"
     ]
    }
   ],
   "source": [
    "RF = RandomForestClassifier()\n",
    "RF = RF.fit(X_train, y_train)\n",
    "RF_model = RF.predict(X_test)\n",
    "Y_RF = pd.DataFrame(RF_model, index = X_test.index)\n",
    "\n",
    "print('Random Forest')\n",
    "print(confusion_matrix(y_test, Y_RF))\n",
    "#fig, ax = plt.subplots(figsize=(8, 5))\n",
    "cmp = ConfusionMatrixDisplay(confusion_matrix(y_test, Y_RF))\n",
    "cmp.plot()\n",
    "plt.show()\n",
    "print('Accuracy score: ', accuracy_score(y_test, Y_RF))\n",
    "print(\"F1\",f1_score(y_test,Y_RF,pos_label=True))\n",
    "\n",
    "print(classification_report(y_test, Y_RF))\n",
    "print(y_test.value_counts())\n",
    "print(Y_RF.value_counts())"
   ]
  },
  {
   "cell_type": "markdown",
   "id": "f9dadfcd",
   "metadata": {},
   "source": [
    "#### BaggingClassifier"
   ]
  },
  {
   "cell_type": "code",
   "execution_count": 21,
   "id": "1d8df788",
   "metadata": {},
   "outputs": [
    {
     "name": "stdout",
     "output_type": "stream",
     "text": [
      "Bagging\n",
      "[[1623  135]\n",
      " [ 320   99]]\n"
     ]
    },
    {
     "data": {
      "image/png": "[encoded data removed]",
      "text/plain": [
       "<Figure size 640x480 with 2 Axes>"
      ]
     },
     "metadata": {},
     "output_type": "display_data"
    },
    {
     "name": "stdout",
     "output_type": "stream",
     "text": [
      "Accuracy score:  0.7909967845659164\n",
      "F1 0.30321592649310875\n",
      "              precision    recall  f1-score   support\n",
      "\n",
      "       False       0.84      0.92      0.88      1758\n",
      "        True       0.42      0.24      0.30       419\n",
      "\n",
      "    accuracy                           0.79      2177\n",
      "   macro avg       0.63      0.58      0.59      2177\n",
      "weighted avg       0.76      0.79      0.77      2177\n",
      "\n",
      "False    1758\n",
      "True      419\n",
      "Name: defects, dtype: int64\n",
      "False    1943\n",
      "True      234\n",
      "dtype: int64\n"
     ]
    }
   ],
   "source": [
    "bgc = BaggingClassifier(base_estimator=DecisionTreeClassifier())\n",
    "bgc = bgc.fit(X_train,y_train)\n",
    "bgc_model = bgc.predict(X_test)\n",
    "Y_bgc = pd.DataFrame(bgc_model, index = X_test.index)\n",
    "\n",
    "print('Bagging')\n",
    "print(confusion_matrix(y_test, Y_bgc))\n",
    "#fig, ax = plt.subplots(figsize=(8, 5))\n",
    "cmp = ConfusionMatrixDisplay(confusion_matrix(y_test, Y_bgc))\n",
    "cmp.plot()\n",
    "plt.show()\n",
    "print('Accuracy score: ', accuracy_score(y_test, Y_bgc))\n",
    "print(\"F1\",f1_score(y_test,Y_bgc,pos_label=True))\n",
    "print(classification_report(y_test, Y_bgc))\n",
    "print(y_test.value_counts())\n",
    "print(Y_bgc.value_counts())"
   ]
  },
  {
   "cell_type": "markdown",
   "id": "ceb32160",
   "metadata": {},
   "source": [
    "#### AdaBoostClassifier"
   ]
  },
  {
   "cell_type": "code",
   "execution_count": 22,
   "id": "8e7f9e4e",
   "metadata": {},
   "outputs": [
    {
     "name": "stdout",
     "output_type": "stream",
     "text": [
      "Bagging\n",
      "[[1719   39]\n",
      " [ 382   37]]\n"
     ]
    },
    {
     "data": {
      "image/png": "[encoded data removed]",
      "text/plain": [
       "<Figure size 640x480 with 2 Axes>"
      ]
     },
     "metadata": {},
     "output_type": "display_data"
    },
    {
     "name": "stdout",
     "output_type": "stream",
     "text": [
      "Accuracy score:  0.8066146072576941\n",
      "F1 0.1494949494949495\n",
      "              precision    recall  f1-score   support\n",
      "\n",
      "       False       0.82      0.98      0.89      1758\n",
      "        True       0.49      0.09      0.15       419\n",
      "\n",
      "    accuracy                           0.81      2177\n",
      "   macro avg       0.65      0.53      0.52      2177\n",
      "weighted avg       0.75      0.81      0.75      2177\n",
      "\n",
      "False    1758\n",
      "True      419\n",
      "Name: defects, dtype: int64\n",
      "False    2101\n",
      "True       76\n",
      "dtype: int64\n"
     ]
    }
   ],
   "source": [
    "abc = AdaBoostClassifier()\n",
    "abc = abc.fit(X_train,y_train)\n",
    "abc_model = abc.predict(X_test)\n",
    "Y_abc = pd.DataFrame(abc_model, index = X_test.index)\n",
    "\n",
    "print('Bagging')\n",
    "print(confusion_matrix(y_test, Y_abc))\n",
    "#fig, ax = plt.subplots(figsize=(8, 5))\n",
    "cmp = ConfusionMatrixDisplay(confusion_matrix(y_test, Y_abc))\n",
    "cmp.plot()\n",
    "plt.show()\n",
    "print('Accuracy score: ', accuracy_score(y_test, Y_abc))\n",
    "print(\"F1\",f1_score(y_test,Y_abc,pos_label=True))\n",
    "print(classification_report(y_test, Y_abc))\n",
    "print(y_test.value_counts())\n",
    "print(Y_abc.value_counts())"
   ]
  },
  {
   "cell_type": "markdown",
   "id": "24c056df",
   "metadata": {},
   "source": [
    "#### GradientBoostingClassifier"
   ]
  },
  {
   "cell_type": "code",
   "execution_count": 23,
   "id": "1f088092",
   "metadata": {},
   "outputs": [
    {
     "name": "stdout",
     "output_type": "stream",
     "text": [
      "Gradient Boosting\n",
      "[[1704   54]\n",
      " [ 379   40]]\n"
     ]
    },
    {
     "data": {
      "image/png": "[encoded data removed]",
      "text/plain": [
       "<Figure size 640x480 with 2 Axes>"
      ]
     },
     "metadata": {},
     "output_type": "display_data"
    },
    {
     "name": "stdout",
     "output_type": "stream",
     "text": [
      "Accuracy score:  0.801102434542949\n",
      "F1 0.15594541910331383\n",
      "              precision    recall  f1-score   support\n",
      "\n",
      "       False       0.82      0.97      0.89      1758\n",
      "        True       0.43      0.10      0.16       419\n",
      "\n",
      "    accuracy                           0.80      2177\n",
      "   macro avg       0.62      0.53      0.52      2177\n",
      "weighted avg       0.74      0.80      0.75      2177\n",
      "\n",
      "False    1758\n",
      "True      419\n",
      "Name: defects, dtype: int64\n",
      "False    2083\n",
      "True       94\n",
      "dtype: int64\n"
     ]
    }
   ],
   "source": [
    "GB = GradientBoostingClassifier()\n",
    "GB = GB.fit(X_train, y_train)\n",
    "GB_model = GB.predict(X_test)\n",
    "Y_GB = pd.DataFrame(GB_model, index = X_test.index)\n",
    "\n",
    "print('Gradient Boosting')\n",
    "print(confusion_matrix(y_test, Y_GB))\n",
    "cmp = ConfusionMatrixDisplay(confusion_matrix(y_test, Y_GB))\n",
    "cmp.plot()\n",
    "plt.show()    \n",
    "print('Accuracy score: ', accuracy_score(y_test, Y_GB))\n",
    "print(\"F1\",f1_score(y_test,Y_GB,pos_label=True))\n",
    "print(classification_report(y_test, Y_GB))\n",
    "print(y_test.value_counts())\n",
    "print(Y_GB.value_counts())"
   ]
  },
  {
   "cell_type": "markdown",
   "id": "dbd9c942",
   "metadata": {},
   "source": [
    "#### SVM"
   ]
  },
  {
   "cell_type": "code",
   "execution_count": 25,
   "id": "44a5e781",
   "metadata": {},
   "outputs": [
    {
     "name": "stdout",
     "output_type": "stream",
     "text": [
      "SVM\n",
      "[[1744   14]\n",
      " [ 399   20]]\n"
     ]
    },
    {
     "data": {
      "image/png": "[encoded data removed]",
      "text/plain": [
       "<Figure size 640x480 with 2 Axes>"
      ]
     },
     "metadata": {},
     "output_type": "display_data"
    },
    {
     "name": "stdout",
     "output_type": "stream",
     "text": [
      "Accuracy score:  0.8102893890675241\n",
      "F1 0.08830022075055188\n",
      "              precision    recall  f1-score   support\n",
      "\n",
      "       False       0.81      0.99      0.89      1758\n",
      "        True       0.59      0.05      0.09       419\n",
      "\n",
      "    accuracy                           0.81      2177\n",
      "   macro avg       0.70      0.52      0.49      2177\n",
      "weighted avg       0.77      0.81      0.74      2177\n",
      "\n",
      "False    2143\n",
      "True       34\n",
      "dtype: int64\n"
     ]
    }
   ],
   "source": [
    "SVM = svm.SVC(kernel='rbf')\n",
    "SVM = SVM.fit(X_train, y_train)\n",
    "SVM_model = SVM.predict(X_test)\n",
    "Y_SVM = pd.DataFrame(SVM_model, index=X_test.index)\n",
    "\n",
    "print('SVM')\n",
    "print(confusion_matrix(y_test, Y_SVM))\n",
    "cmp = ConfusionMatrixDisplay(confusion_matrix(y_test, Y_SVM))\n",
    "cmp.plot()\n",
    "plt.show()\n",
    "print('Accuracy score: ', accuracy_score(y_test, Y_SVM))\n",
    "print(\"F1\",f1_score(y_test,Y_SVM,pos_label=True))\n",
    "print(classification_report(y_test, Y_SVM))\n",
    "#print(y_test_HL.value_counts())\n",
    "print(Y_SVM.value_counts())"
   ]
  },
  {
   "cell_type": "markdown",
   "id": "f6f99e0a",
   "metadata": {},
   "source": [
    "\n",
    "*Desicion tree has best performance with F1 Score of 0.36*"
   ]
  },
  {
   "cell_type": "markdown",
   "id": "9372f0c4",
   "metadata": {},
   "source": [
    "## Predictions"
   ]
  },
  {
   "cell_type": "markdown",
   "id": "a38357c7",
   "metadata": {},
   "source": [
    "### bounswe2022group8 Code Overall Metrics"
   ]
  },
  {
   "cell_type": "markdown",
   "id": "5f5dbec8",
   "metadata": {},
   "source": [
    "<li>loc: 29092</li>\n",
    "<li>v(g): 1574</li>\n",
    "<li>lOCode: 23946</li>\n",
    "<li>lOComment: 1386</li>\n",
    "<li>lOBlank: 1376 </li>\n",
    "<li>lOCodeAndComment: ??? </li>"
   ]
  },
  {
   "cell_type": "markdown",
   "id": "b20a3b8d",
   "metadata": {},
   "source": [
    "#### Individual Analysis for bounswe2022group8"
   ]
  },
  {
   "cell_type": "code",
   "execution_count": 69,
   "id": "4ad6f940",
   "metadata": {},
   "outputs": [],
   "source": [
    "def predict_defect(metrics,name):\n",
    "    print(\"loc:\"+ str(metrics[0]))\n",
    "    print(\"v(g):\"+ str(metrics[1]))\n",
    "    print(\"lOCode:\"+ str(metrics[2]))\n",
    "    print(\"lOComment:\"+ str(metrics[3]))\n",
    "    print(\"lOBlank:\"+ str(metrics[4]))\n",
    "    print(\"lOCodeAndComment:\"+ str(metrics[5]))\n",
    "    x_predict = pd.DataFrame(np.array(metrics).reshape(1,-1),columns=predictors)\n",
    "    print(\"\")\n",
    "    if DT.predict(x_predict)[0]:\n",
    "        print(\"Defect is expected for \"+name)\n",
    "    else:\n",
    "        print(\"No defect is expected for \"+name)"
   ]
  },
  {
   "cell_type": "code",
   "execution_count": 75,
   "id": "c0f3e0db",
   "metadata": {
    "scrolled": true
   },
   "outputs": [
    {
     "name": "stdout",
     "output_type": "stream",
     "text": [
      "loc:306\n",
      "v(g):16\n",
      "lOCode:276\n",
      "lOComment:8\n",
      "lOBlank:22\n",
      "lOCodeAndComment:0\n",
      "\n",
      "Defect is expected for profile.py\n"
     ]
    }
   ],
   "source": [
    "predict_defect([306,16,276,8,22,0],\"profile.py\");"
   ]
  },
  {
   "cell_type": "code",
   "execution_count": 74,
   "id": "90a22b48",
   "metadata": {},
   "outputs": [
    {
     "name": "stdout",
     "output_type": "stream",
     "text": [
      "loc:51\n",
      "v(g):2\n",
      "lOCode:44\n",
      "lOComment:1\n",
      "lOBlank:6\n",
      "lOCodeAndComment:0\n",
      "\n",
      "No defect is expected for user.py\n"
     ]
    }
   ],
   "source": [
    "predict_defect([51,2,44,1,6,0],\"user.py\");"
   ]
  },
  {
   "cell_type": "code",
   "execution_count": 76,
   "id": "5e1ab12c",
   "metadata": {},
   "outputs": [
    {
     "name": "stdout",
     "output_type": "stream",
     "text": [
      "loc:102\n",
      "v(g):6\n",
      "lOCode:76\n",
      "lOComment:0\n",
      "lOBlank:26\n",
      "lOCodeAndComment:0\n",
      "\n",
      "No defect is expected for serializers.py\n"
     ]
    }
   ],
   "source": [
    "predict_defect([102,6,76,0,26,0],\"serializers.py\")"
   ]
  },
  {
   "cell_type": "code",
   "execution_count": 77,
   "id": "55622f7d",
   "metadata": {},
   "outputs": [
    {
     "name": "stdout",
     "output_type": "stream",
     "text": [
      "loc:94\n",
      "v(g):10\n",
      "lOCode:79\n",
      "lOComment:4\n",
      "lOBlank:11\n",
      "lOCodeAndComment:0\n",
      "\n",
      "Defect is expected for ArtItemSelection.js\n"
     ]
    }
   ],
   "source": [
    "predict_defect([94,10,79,4,11,0],\"ArtItemSelection.js\")"
   ]
  },
  {
   "cell_type": "code",
   "execution_count": 78,
   "id": "b72c2823",
   "metadata": {},
   "outputs": [
    {
     "name": "stdout",
     "output_type": "stream",
     "text": [
      "loc:46\n",
      "v(g):4\n",
      "lOCode:37\n",
      "lOComment:2\n",
      "lOBlank:7\n",
      "lOCodeAndComment:2\n",
      "\n",
      "Defect is expected for models.py\n"
     ]
    }
   ],
   "source": [
    "predict_defect([46,4,37,2,7,2],\"models.py\")"
   ]
  }
 ],
 "metadata": {
  "kernelspec": {
   "display_name": "Python 3 (ipykernel)",
   "language": "python",
   "name": "python3"
  },
  "language_info": {
   "codemirror_mode": {
    "name": "ipython",
    "version": 3
   },
   "file_extension": ".py",
   "mimetype": "text/x-python",
   "name": "python",
   "nbconvert_exporter": "python",
   "pygments_lexer": "ipython3",
   "version": "3.9.13"
  }
 },
 "nbformat": 4,
 "nbformat_minor": 5
}
